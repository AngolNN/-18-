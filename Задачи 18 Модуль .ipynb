{
 "cells": [
  {
   "cell_type": "code",
   "execution_count": null,
   "metadata": {},
   "outputs": [],
   "source": [
    "a,b,c,d = int(input()) , int(input()) , int(input()) , int(input()) #обозначаем переменные и вводим данные\n",
    "t=(a,b,c,d)\n",
    "S1=sum(t) #сумму значений обозначаем переменной\n",
    "S2=S1+b #находим стоимость обеда Маши\n",
    "res=S2/S1 # обозначаем переменную для \"увеличения\"\n",
    "print( 'Начальная стоимость:',S1,'Увеличение:',res) #выводим результат"
   ]
  },
  {
   "cell_type": "code",
   "execution_count": null,
   "metadata": {},
   "outputs": [],
   "source": [
    "my_str = 'Карл у Клары украл рекламу, а Клара у Карла украла бюджет' # 1. Создаем строку\n",
    "len(my_str)                                               # 2. Получаем длину строки с помощью встроенного метода len()\n",
    "my_str + '.'                                              # 3. Выполняем конкатенацию строк           \n",
    "'ла' in my_str                                            # 4. Определяем вхождение подстроки 'ре'\n",
    "my_str.count('ла')                                        # 5. Определяем количество вхождений подстроки 'ре'\n",
    "my_str[-2]                                                # 6. Получаем предпоследний символ строки\n",
    "my_str[1::2]                                              # 7. Получаем элементы с нечетными индексами\n",
    "                                                         #  срез с элемента с индексом 1 по конец строки с шагом 2\n",
    "my_str.count(' ') + 1                                     # 8. Определяем количество слов в строке\n",
    "                                                         #  количество пробелов и + 1\n"
   ]
  },
  {
   "cell_type": "code",
   "execution_count": null,
   "metadata": {},
   "outputs": [],
   "source": []
  }
 ],
 "metadata": {
  "kernelspec": {
   "display_name": "Python 3",
   "language": "python",
   "name": "python3"
  },
  "language_info": {
   "codemirror_mode": {
    "name": "ipython",
    "version": 3
   },
   "file_extension": ".py",
   "mimetype": "text/x-python",
   "name": "python",
   "nbconvert_exporter": "python",
   "pygments_lexer": "ipython3",
   "version": "3.7.6"
  }
 },
 "nbformat": 4,
 "nbformat_minor": 4
}
